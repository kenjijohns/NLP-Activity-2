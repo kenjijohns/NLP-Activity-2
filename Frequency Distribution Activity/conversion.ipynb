{
 "cells": [
  {
   "attachments": {},
   "cell_type": "markdown",
   "metadata": {},
   "source": [
    "Convert Dataset to Json file"
   ]
  },
  {
   "cell_type": "code",
   "execution_count": 2,
   "metadata": {},
   "outputs": [],
   "source": [
    "import json\n",
    "import pandas as pd"
   ]
  },
  {
   "cell_type": "code",
   "execution_count": 3,
   "metadata": {},
   "outputs": [],
   "source": [
    "df = pd.read_csv(r\"C:\\Users\\kjson\\Desktop\\Midterm Requirements\\NLP Midterm Group 4 (Sondia, Gison, Tenan, Bagsit, Quintilla)\\review.csv\")"
   ]
  },
  {
   "cell_type": "code",
   "execution_count": 4,
   "metadata": {},
   "outputs": [
    {
     "data": {
      "text/plain": [
       "Index(['property_name', 'address', 'mobile', 'rating', 'url', 'review',\n",
       "       'is_positive'],\n",
       "      dtype='object')"
      ]
     },
     "execution_count": 4,
     "metadata": {},
     "output_type": "execute_result"
    }
   ],
   "source": [
    "df.columns"
   ]
  },
  {
   "cell_type": "code",
   "execution_count": 5,
   "metadata": {},
   "outputs": [],
   "source": [
    "df = df.drop('url', axis=1)\n"
   ]
  },
  {
   "cell_type": "code",
   "execution_count": 6,
   "metadata": {},
   "outputs": [
    {
     "data": {
      "text/html": [
       "<div>\n",
       "<style scoped>\n",
       "    .dataframe tbody tr th:only-of-type {\n",
       "        vertical-align: middle;\n",
       "    }\n",
       "\n",
       "    .dataframe tbody tr th {\n",
       "        vertical-align: top;\n",
       "    }\n",
       "\n",
       "    .dataframe thead th {\n",
       "        text-align: right;\n",
       "    }\n",
       "</style>\n",
       "<table border=\"1\" class=\"dataframe\">\n",
       "  <thead>\n",
       "    <tr style=\"text-align: right;\">\n",
       "      <th></th>\n",
       "      <th>property_name</th>\n",
       "      <th>address</th>\n",
       "      <th>mobile</th>\n",
       "      <th>rating</th>\n",
       "      <th>review</th>\n",
       "      <th>is_positive</th>\n",
       "    </tr>\n",
       "  </thead>\n",
       "  <tbody>\n",
       "    <tr>\n",
       "      <th>0</th>\n",
       "      <td>Entheos Printing Press</td>\n",
       "      <td>220D East 8th Avenue, 108, Caloocan City 1403 ...</td>\n",
       "      <td>+63(02)83645344</td>\n",
       "      <td>5.0  (16)</td>\n",
       "      <td>Gave us reasonable quotation price for our bus...</td>\n",
       "      <td>1.0</td>\n",
       "    </tr>\n",
       "    <tr>\n",
       "      <th>1</th>\n",
       "      <td>New Wintex Fabrics</td>\n",
       "      <td>Unit S, Facilities Center, 548, Shaw Boulevard...</td>\n",
       "      <td>+63(02)85311208</td>\n",
       "      <td>5.0  (8)</td>\n",
       "      <td>Huge selection of curtains and other fabric ma...</td>\n",
       "      <td>1.0</td>\n",
       "    </tr>\n",
       "    <tr>\n",
       "      <th>2</th>\n",
       "      <td>Hua Seng Canvas &amp; Plastic Corp</td>\n",
       "      <td>662, Sabino Padilla Street, Binondo, City of M...</td>\n",
       "      <td>+63(2)82420060</td>\n",
       "      <td>5.0  (8)</td>\n",
       "      <td>Thanks For offering me great prices for my canvas</td>\n",
       "      <td>1.0</td>\n",
       "    </tr>\n",
       "    <tr>\n",
       "      <th>3</th>\n",
       "      <td>Success Mirror City</td>\n",
       "      <td>204, Antonio Arnaiz Avenue, Pasay City 1300  M...</td>\n",
       "      <td>+63(2)88315286</td>\n",
       "      <td>5.0  (7)</td>\n",
       "      <td>Once again, I installed 4 new mirrors from my ...</td>\n",
       "      <td>1.0</td>\n",
       "    </tr>\n",
       "    <tr>\n",
       "      <th>4</th>\n",
       "      <td>Epp Fire Safety And Rescue Products</td>\n",
       "      <td>4/F, Concord Building, 2584, A. Bonifacio Stre...</td>\n",
       "      <td>+63(2)88440599</td>\n",
       "      <td>5.0  (7)</td>\n",
       "      <td>This business deserves 5 star review.</td>\n",
       "      <td>1.0</td>\n",
       "    </tr>\n",
       "  </tbody>\n",
       "</table>\n",
       "</div>"
      ],
      "text/plain": [
       "                         property_name  \\\n",
       "0               Entheos Printing Press   \n",
       "1                   New Wintex Fabrics   \n",
       "2       Hua Seng Canvas & Plastic Corp   \n",
       "3                  Success Mirror City   \n",
       "4  Epp Fire Safety And Rescue Products   \n",
       "\n",
       "                                             address           mobile  \\\n",
       "0  220D East 8th Avenue, 108, Caloocan City 1403 ...  +63(02)83645344   \n",
       "1  Unit S, Facilities Center, 548, Shaw Boulevard...  +63(02)85311208   \n",
       "2  662, Sabino Padilla Street, Binondo, City of M...   +63(2)82420060   \n",
       "3  204, Antonio Arnaiz Avenue, Pasay City 1300  M...   +63(2)88315286   \n",
       "4  4/F, Concord Building, 2584, A. Bonifacio Stre...   +63(2)88440599   \n",
       "\n",
       "      rating                                             review  is_positive  \n",
       "0  5.0  (16)  Gave us reasonable quotation price for our bus...          1.0  \n",
       "1   5.0  (8)  Huge selection of curtains and other fabric ma...          1.0  \n",
       "2   5.0  (8)  Thanks For offering me great prices for my canvas          1.0  \n",
       "3   5.0  (7)  Once again, I installed 4 new mirrors from my ...          1.0  \n",
       "4   5.0  (7)             This business deserves 5 star review.           1.0  "
      ]
     },
     "execution_count": 6,
     "metadata": {},
     "output_type": "execute_result"
    }
   ],
   "source": [
    "df.head()"
   ]
  },
  {
   "cell_type": "code",
   "execution_count": 7,
   "metadata": {},
   "outputs": [],
   "source": [
    "# Convert the DataFrame to a JSON file\n",
    "df.to_json('activity_2.json', orient='records')"
   ]
  }
 ],
 "metadata": {
  "kernelspec": {
   "display_name": "Python 3",
   "language": "python",
   "name": "python3"
  },
  "language_info": {
   "codemirror_mode": {
    "name": "ipython",
    "version": 3
   },
   "file_extension": ".py",
   "mimetype": "text/x-python",
   "name": "python",
   "nbconvert_exporter": "python",
   "pygments_lexer": "ipython3",
   "version": "3.9.5"
  },
  "orig_nbformat": 4
 },
 "nbformat": 4,
 "nbformat_minor": 2
}
